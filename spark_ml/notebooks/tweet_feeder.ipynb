{
 "cells": [
  {
   "cell_type": "code",
   "execution_count": 5,
   "metadata": {},
   "outputs": [
    {
     "name": "stdout",
     "output_type": "stream",
     "text": [
      "Current spark version is 2.4.5\n"
     ]
    }
   ],
   "source": [
    "println(s\"Current spark version is ${spark.version}\")"
   ]
  },
  {
   "cell_type": "code",
   "execution_count": 6,
   "metadata": {},
   "outputs": [
    {
     "name": "stdout",
     "output_type": "stream",
     "text": [
      "Total tweets in file: 1600000\n"
     ]
    },
    {
     "data": {
      "text/plain": [
       "dataSchema = StructType(StructField(target,IntegerType,true), StructField(id,LongType,true), StructField(raw_timestamp,StringType,true), StructField(query_status,StringType,true), StructField(author,StringType,true), StructField(tweet,StringType,true))\n",
       "dataPath = /home/jovyan/data/training.1600000.processed.noemoticon.csv\n",
       "raw_sentiment = [tweet: string]\n"
      ]
     },
     "metadata": {},
     "output_type": "display_data"
    },
    {
     "data": {
      "text/plain": [
       "[tweet: string]"
      ]
     },
     "execution_count": 6,
     "metadata": {},
     "output_type": "execute_result"
    }
   ],
   "source": [
    "import org.apache.spark.sql.types.{StructType, StructField, IntegerType, LongType, StringType}\n",
    "\n",
    "val dataSchema = new StructType()\n",
    "    .add(\"target\", IntegerType)\n",
    "    .add(\"id\", LongType)\n",
    "    .add(\"raw_timestamp\", StringType)\n",
    "    .add(\"query_status\", StringType)\n",
    "    .add(\"author\", StringType)\n",
    "    .add(\"tweet\", StringType)\n",
    "\n",
    "    \n",
    "val dataPath= \"/home/jovyan/data/training.1600000.processed.noemoticon.csv\"\n",
    "\n",
    "val raw_sentiment = spark.read\n",
    "    .format(\"csv\")\n",
    "    .option(\"header\",false)\n",
    "    .schema(dataSchema)\n",
    "    .load(dataPath)\n",
    "    .selectExpr(\"tweet\")\n",
    "\n",
    "println(s\"Total tweets in file: ${raw_sentiment.count}\")\n"
   ]
  },
  {
   "cell_type": "code",
   "execution_count": 7,
   "metadata": {},
   "outputs": [
    {
     "name": "stdout",
     "output_type": "stream",
     "text": [
      "Streaming started!\n"
     ]
    },
    {
     "data": {
      "text/plain": [
       "timer = java.util.Timer@290c4526\n",
       "task = $anon$1@1a9fba40\n"
      ]
     },
     "metadata": {},
     "output_type": "display_data"
    },
    {
     "data": {
      "text/plain": [
       "$anon$1@1a9fba40"
      ]
     },
     "execution_count": 7,
     "metadata": {},
     "output_type": "execute_result"
    },
    {
     "name": "stdout",
     "output_type": "stream",
     "text": [
      "2020-04-14T15:24:10.718Z - saved some data to the events stream!\n",
      "2020-04-14T15:24:18.126Z - saved some data to the events stream!\n",
      "2020-04-14T15:24:27.247Z - saved some data to the events stream!\n",
      "2020-04-14T15:24:35.741Z - saved some data to the events stream!\n",
      "2020-04-14T15:24:42.665Z - saved some data to the events stream!\n",
      "2020-04-14T15:24:49.805Z - saved some data to the events stream!\n",
      "2020-04-14T15:24:56.432Z - saved some data to the events stream!\n",
      "2020-04-14T15:25:02.407Z - saved some data to the events stream!\n",
      "2020-04-14T15:25:08.909Z - saved some data to the events stream!\n",
      "2020-04-14T15:25:16.540Z - saved some data to the events stream!\n",
      "2020-04-14T15:25:23.030Z - saved some data to the events stream!\n",
      "2020-04-14T15:25:29.657Z - saved some data to the events stream!\n",
      "2020-04-14T15:25:35.696Z - saved some data to the events stream!\n",
      "2020-04-14T15:25:41.730Z - saved some data to the events stream!\n",
      "2020-04-14T15:25:47.914Z - saved some data to the events stream!\n",
      "2020-04-14T15:25:53.927Z - saved some data to the events stream!\n",
      "2020-04-14T15:25:59.996Z - saved some data to the events stream!\n",
      "2020-04-14T15:26:05.996Z - saved some data to the events stream!\n",
      "2020-04-14T15:26:12.040Z - saved some data to the events stream!\n",
      "2020-04-14T15:26:18.068Z - saved some data to the events stream!\n",
      "2020-04-14T15:26:24.071Z - saved some data to the events stream!\n",
      "2020-04-14T15:26:30.889Z - saved some data to the events stream!\n",
      "2020-04-14T15:26:40.538Z - saved some data to the events stream!\n",
      "2020-04-14T15:26:47.509Z - saved some data to the events stream!\n",
      "2020-04-14T15:26:53.514Z - saved some data to the events stream!\n",
      "2020-04-14T15:27:00.335Z - saved some data to the events stream!\n",
      "2020-04-14T15:27:06.413Z - saved some data to the events stream!\n",
      "2020-04-14T15:27:13.628Z - saved some data to the events stream!\n",
      "2020-04-14T15:27:19.492Z - saved some data to the events stream!\n",
      "2020-04-14T15:27:26.086Z - saved some data to the events stream!\n",
      "2020-04-14T15:27:33.615Z - saved some data to the events stream!\n",
      "2020-04-14T15:27:41.933Z - saved some data to the events stream!\n",
      "2020-04-14T15:27:51.977Z - saved some data to the events stream!\n",
      "2020-04-14T15:27:59.142Z - saved some data to the events stream!\n",
      "2020-04-14T15:28:05.145Z - saved some data to the events stream!\n",
      "2020-04-14T15:28:11.165Z - saved some data to the events stream!\n",
      "2020-04-14T15:28:17.492Z - saved some data to the events stream!\n",
      "2020-04-14T15:28:23.394Z - saved some data to the events stream!\n",
      "2020-04-14T15:28:29.269Z - saved some data to the events stream!\n",
      "2020-04-14T15:28:35.176Z - saved some data to the events stream!\n",
      "2020-04-14T15:28:41.125Z - saved some data to the events stream!\n",
      "2020-04-14T15:28:47.044Z - saved some data to the events stream!\n",
      "2020-04-14T15:28:52.988Z - saved some data to the events stream!\n",
      "2020-04-14T15:29:01.429Z - saved some data to the events stream!\n",
      "2020-04-14T15:29:18.395Z - saved some data to the events stream!\n",
      "2020-04-14T15:29:30.530Z - saved some data to the events stream!\n",
      "2020-04-14T15:29:44.969Z - saved some data to the events stream!\n",
      "2020-04-14T15:29:52.593Z - saved some data to the events stream!\n",
      "2020-04-14T15:29:59.394Z - saved some data to the events stream!\n",
      "2020-04-14T15:30:05.791Z - saved some data to the events stream!\n",
      "2020-04-14T15:30:12.446Z - saved some data to the events stream!\n",
      "2020-04-14T15:30:19.015Z - saved some data to the events stream!\n",
      "2020-04-14T15:30:25.680Z - saved some data to the events stream!\n",
      "2020-04-14T15:30:32.323Z - saved some data to the events stream!\n",
      "2020-04-14T15:30:41.988Z - saved some data to the events stream!\n",
      "2020-04-14T15:30:53.368Z - saved some data to the events stream!\n"
     ]
    }
   ],
   "source": [
    "import java.util.{Calendar, Timer, TimerTask}\n",
    "\n",
    "val timer = new Timer()\n",
    "\n",
    "val task = new TimerTask {\n",
    "  def run(): Unit = {\n",
    "      val data = raw_sentiment.sample(fraction=0.00001,withReplacement=true)\n",
    "      data.coalesce(1).write.format(\"json\").mode(\"append\").save(\"/home/jovyan/data/events-stream\")\n",
    "      println(s\"${Calendar.getInstance().toInstant} - saved some data to the events stream!\")\n",
    "  } \n",
    "}\n",
    "\n",
    "println(\"Streaming started!\")\n",
    "\n",
    "timer.schedule(task, 1000L, 1000L)"
   ]
  },
  {
   "cell_type": "code",
   "execution_count": 8,
   "metadata": {},
   "outputs": [
    {
     "data": {
      "text/plain": [
       "true"
      ]
     },
     "execution_count": 8,
     "metadata": {},
     "output_type": "execute_result"
    }
   ],
   "source": [
    "task.cancel()"
   ]
  },
  {
   "cell_type": "code",
   "execution_count": null,
   "metadata": {},
   "outputs": [],
   "source": []
  }
 ],
 "metadata": {
  "kernelspec": {
   "display_name": "Apache Toree - Scala",
   "language": "scala",
   "name": "apache_toree_scala"
  },
  "language_info": {
   "codemirror_mode": "text/x-scala",
   "file_extension": ".scala",
   "mimetype": "text/x-scala",
   "name": "scala",
   "pygments_lexer": "scala",
   "version": "2.11.12"
  }
 },
 "nbformat": 4,
 "nbformat_minor": 4
}
